{
 "cells": [
  {
   "cell_type": "markdown",
   "id": "99b1a8f7-bf7b-41ca-896d-eadcf6b0d698",
   "metadata": {},
   "source": [
    "<h1> Pizza or Not Pizza. </h1>\n",
    "    \n",
    "<p> I detta experiment används keras för att förutse om en bild är en bild av en pizza eller ej. </p> "
   ]
  },
  {
   "cell_type": "code",
   "execution_count": 1,
   "id": "33ba21c6-62b5-4792-83a2-844a7611472f",
   "metadata": {},
   "outputs": [],
   "source": [
    "import tensorflow as tf\n",
    "import pandas as pd\n",
    "import numpy as np\n",
    "from keras.preprocessing.image import ImageDataGenerator"
   ]
  },
  {
   "cell_type": "code",
   "execution_count": 2,
   "id": "de1b1f2d-56b2-4b90-ae35-8a176c767707",
   "metadata": {},
   "outputs": [],
   "source": [
    "gen = ImageDataGenerator(rescale=1./255, shear_range=0.2, zoom_range=0.2, horizontal_flip=True)"
   ]
  },
  {
   "cell_type": "markdown",
   "id": "5c4d9e78-098e-4344-8122-e83bbebab8f3",
   "metadata": {},
   "source": [
    "<p> Ladda in träningsset flow från directory </p>"
   ]
  },
  {
   "cell_type": "code",
   "execution_count": 3,
   "id": "e67dde98-f2f9-4e19-97cc-558fd4f39224",
   "metadata": {},
   "outputs": [
    {
     "name": "stdout",
     "output_type": "stream",
     "text": [
      "Found 1536 images belonging to 2 classes.\n"
     ]
    }
   ],
   "source": [
    "training_set = gen.flow_from_directory(\"image_dataset/training_set\", target_size=(64, 64), class_mode=\"binary\", batch_size=32)"
   ]
  },
  {
   "cell_type": "markdown",
   "id": "eec5228b-09db-4d80-89c5-a8c1ec5a44b4",
   "metadata": {},
   "source": [
    "<p> Ladda in testset flow från directory </p>"
   ]
  },
  {
   "cell_type": "code",
   "execution_count": 4,
   "id": "750045da-35b3-4697-91d5-e9ab734437a8",
   "metadata": {},
   "outputs": [
    {
     "name": "stdout",
     "output_type": "stream",
     "text": [
      "Found 399 images belonging to 2 classes.\n"
     ]
    }
   ],
   "source": [
    "generator = ImageDataGenerator(rescale=1./255)\n",
    "test_set = generator.flow_from_directory(\"image_dataset/test_set\", target_size=(64, 64), class_mode=\"binary\", batch_size=32)"
   ]
  },
  {
   "cell_type": "markdown",
   "id": "a99a0249-386a-4d9a-9270-3d42313fee25",
   "metadata": {},
   "source": [
    "<p> Skapa cnn objekt </p>"
   ]
  },
  {
   "cell_type": "code",
   "execution_count": 5,
   "id": "2c0c6fc6-0ed2-4e93-8c90-7f5c56614a2e",
   "metadata": {},
   "outputs": [],
   "source": [
    "cnn_model = tf.keras.models.Sequential()"
   ]
  },
  {
   "cell_type": "markdown",
   "id": "b19a9f1f-2682-4e17-a6e6-b22af7729cba",
   "metadata": {},
   "source": [
    "<p> Lägger till lager. För bättre resultat används tre lager. </p>"
   ]
  },
  {
   "cell_type": "code",
   "execution_count": 6,
   "id": "dc7cf6a8-379f-4eb0-95e9-ab3bc8bc5d78",
   "metadata": {},
   "outputs": [],
   "source": [
    "cnn_model.add(tf.keras.layers.Conv2D(filters=32, kernel_size=3, activation=\"relu\", input_shape=[64, 64, 3], strides=(1,1)))"
   ]
  },
  {
   "cell_type": "code",
   "execution_count": 7,
   "id": "ce9d8e99-8900-4d08-86dd-8ccbc55c074b",
   "metadata": {},
   "outputs": [],
   "source": [
    "cnn_model.add(tf.keras.layers.MaxPool2D(pool_size=(2,2), strides=1, padding=\"same\"))"
   ]
  },
  {
   "cell_type": "code",
   "execution_count": 8,
   "id": "3f11382a-71ec-4ab1-bb91-84f7ed3d6e77",
   "metadata": {},
   "outputs": [],
   "source": [
    "cnn_model.add(tf.keras.layers.Conv2D(filters=32, kernel_size=3, activation=\"relu\", strides=(1,1)))\n",
    "cnn_model.add(tf.keras.layers.MaxPool2D(pool_size=(2,2), strides=1, padding=\"same\"))"
   ]
  },
  {
   "cell_type": "code",
   "execution_count": 9,
   "id": "8e5023fc-bf04-409f-9ef6-4820d0a8eb2c",
   "metadata": {},
   "outputs": [],
   "source": [
    "cnn_model.add(tf.keras.layers.Conv2D(filters=32, kernel_size=3, activation=\"relu\", strides=(1,1)))\n",
    "cnn_model.add(tf.keras.layers.MaxPool2D(pool_size=(2,2), strides=1, padding=\"same\"))"
   ]
  },
  {
   "cell_type": "markdown",
   "id": "3ba260d9-14ae-4420-bd25-1f015d2bc08f",
   "metadata": {},
   "source": [
    "Input layer"
   ]
  },
  {
   "cell_type": "code",
   "execution_count": 10,
   "id": "ba1ccb4c-cef3-469e-a2c9-034853adaeb5",
   "metadata": {},
   "outputs": [],
   "source": [
    "cnn_model.add(tf.keras.layers.Flatten())"
   ]
  },
  {
   "cell_type": "code",
   "execution_count": 11,
   "id": "d40a8c32-6ea1-4338-b6a9-ab8273638f5c",
   "metadata": {},
   "outputs": [],
   "source": [
    "cnn_model.add(tf.keras.layers.Dense(units=64,activation=\"relu\"))"
   ]
  },
  {
   "cell_type": "markdown",
   "id": "bab12e7f-d81e-4010-b90b-b0d7109df6c1",
   "metadata": {},
   "source": [
    "Eftersom modellen skiljer mellan två kategorier används sigmoid."
   ]
  },
  {
   "cell_type": "code",
   "execution_count": 12,
   "id": "8e22c047-ddbc-4cf6-b0fb-18257a15aa9d",
   "metadata": {},
   "outputs": [],
   "source": [
    "cnn_model.add(tf.keras.layers.Dense(units=1, activation=\"sigmoid\"))"
   ]
  },
  {
   "cell_type": "code",
   "execution_count": 13,
   "id": "9c17d023-11d3-43a6-84f7-225413f993a1",
   "metadata": {},
   "outputs": [],
   "source": [
    "cnn_model.compile(optimizer = \"adam\", loss = \"binary_crossentropy\", metrics = [\"accuracy\"])"
   ]
  },
  {
   "cell_type": "markdown",
   "id": "ccf9278e-0e82-40b9-9704-4e37acdca0f9",
   "metadata": {},
   "source": [
    "<p> Träna modellen </p>"
   ]
  },
  {
   "cell_type": "code",
   "execution_count": 14,
   "id": "67f7bd4e-05cc-4ce8-bf97-1294ec2fa637",
   "metadata": {},
   "outputs": [
    {
     "name": "stdout",
     "output_type": "stream",
     "text": [
      "Epoch 1/20\n",
      "48/48 [==============================] - 22s 441ms/step - loss: 0.9176 - accuracy: 0.5247\n",
      "Epoch 2/20\n",
      "48/48 [==============================] - 11s 228ms/step - loss: 0.6503 - accuracy: 0.6315\n",
      "Epoch 3/20\n",
      "48/48 [==============================] - 11s 235ms/step - loss: 0.6104 - accuracy: 0.6855\n",
      "Epoch 4/20\n",
      "48/48 [==============================] - 12s 240ms/step - loss: 0.6056 - accuracy: 0.6725\n",
      "Epoch 5/20\n",
      "48/48 [==============================] - 12s 250ms/step - loss: 0.5621 - accuracy: 0.7168\n",
      "Epoch 6/20\n",
      "48/48 [==============================] - 12s 245ms/step - loss: 0.5469 - accuracy: 0.7266\n",
      "Epoch 7/20\n",
      "48/48 [==============================] - 12s 242ms/step - loss: 0.5274 - accuracy: 0.7298\n",
      "Epoch 8/20\n",
      "48/48 [==============================] - 12s 244ms/step - loss: 0.5417 - accuracy: 0.7266\n",
      "Epoch 9/20\n",
      "48/48 [==============================] - 12s 242ms/step - loss: 0.5266 - accuracy: 0.7480\n",
      "Epoch 10/20\n",
      "48/48 [==============================] - 12s 240ms/step - loss: 0.4900 - accuracy: 0.7728\n",
      "Epoch 11/20\n",
      "48/48 [==============================] - 12s 245ms/step - loss: 0.4828 - accuracy: 0.7741\n",
      "Epoch 12/20\n",
      "48/48 [==============================] - 12s 240ms/step - loss: 0.4794 - accuracy: 0.7702\n",
      "Epoch 13/20\n",
      "48/48 [==============================] - 11s 235ms/step - loss: 0.4378 - accuracy: 0.7871\n",
      "Epoch 14/20\n",
      "48/48 [==============================] - 11s 234ms/step - loss: 0.5151 - accuracy: 0.7331\n",
      "Epoch 15/20\n",
      "48/48 [==============================] - 11s 232ms/step - loss: 0.4539 - accuracy: 0.7969\n",
      "Epoch 16/20\n",
      "48/48 [==============================] - 11s 231ms/step - loss: 0.4439 - accuracy: 0.7949\n",
      "Epoch 17/20\n",
      "48/48 [==============================] - 11s 232ms/step - loss: 0.4230 - accuracy: 0.8164\n",
      "Epoch 18/20\n",
      "48/48 [==============================] - 12s 246ms/step - loss: 0.4052 - accuracy: 0.8138\n",
      "Epoch 19/20\n",
      "48/48 [==============================] - 12s 245ms/step - loss: 0.4058 - accuracy: 0.8275\n",
      "Epoch 20/20\n",
      "48/48 [==============================] - 11s 233ms/step - loss: 0.3723 - accuracy: 0.8398\n"
     ]
    },
    {
     "data": {
      "text/plain": [
       "<keras.callbacks.History at 0x1b5b385a6d0>"
      ]
     },
     "execution_count": 14,
     "metadata": {},
     "output_type": "execute_result"
    }
   ],
   "source": [
    "cnn_model.fit(training_set, epochs = 20)"
   ]
  },
  {
   "cell_type": "markdown",
   "id": "f1cd6aae-7c7b-4791-b30f-804d9a7cf9fa",
   "metadata": {},
   "source": [
    "<p> Evaluerar modellens träffsäkerhet </p>"
   ]
  },
  {
   "cell_type": "code",
   "execution_count": 15,
   "id": "b35ebc35-2e30-45d0-ba3a-ffcb3c08b47c",
   "metadata": {},
   "outputs": [
    {
     "name": "stdout",
     "output_type": "stream",
     "text": [
      "13/13 [==============================] - 3s 271ms/step - loss: 0.4799 - accuracy: 0.7845\n"
     ]
    }
   ],
   "source": [
    "evaluation = cnn_model.evaluate(test_set, batch_size=32)"
   ]
  },
  {
   "cell_type": "code",
   "execution_count": 16,
   "id": "abd4df95-5f99-47af-9d6b-f874b9a55d5f",
   "metadata": {},
   "outputs": [
    {
     "name": "stdout",
     "output_type": "stream",
     "text": [
      "78.45%\n"
     ]
    }
   ],
   "source": [
    "val = str(round(evaluation[1] * 100,2))\n",
    "print(\"%s%%\"%val)"
   ]
  },
  {
   "cell_type": "markdown",
   "id": "eb8b46d7-6e91-46a6-9650-be163668f110",
   "metadata": {},
   "source": [
    "Ladda test bilder"
   ]
  },
  {
   "cell_type": "code",
   "execution_count": 17,
   "id": "ad72f485-1db8-41ea-917b-57d00fdc6865",
   "metadata": {},
   "outputs": [],
   "source": [
    "from keras.preprocessing import image"
   ]
  },
  {
   "cell_type": "code",
   "execution_count": 18,
   "id": "483035a8-5540-4f9d-9dfd-0bbfab6cc0c0",
   "metadata": {},
   "outputs": [],
   "source": [
    "pizza = tf.keras.utils.load_img(\"image_dataset/single_prediction/pizza.jpg\", target_size=(64,64))\n",
    "not_pizza = tf.keras.utils.load_img(\"image_dataset/single_prediction/not_pizza.jpg\", target_size=(64,64))"
   ]
  },
  {
   "cell_type": "code",
   "execution_count": 19,
   "id": "ae5e550f-d677-493d-a62f-0d40c2861c93",
   "metadata": {},
   "outputs": [],
   "source": [
    "pizza_array = tf.keras.utils.img_to_array(pizza)\n",
    "not_pizza_array = tf.keras.utils.img_to_array(not_pizza)"
   ]
  },
  {
   "cell_type": "code",
   "execution_count": 20,
   "id": "9ae64bec-ebbb-45a5-b938-4cd6bd0de007",
   "metadata": {},
   "outputs": [],
   "source": [
    "pizza_image = np.expand_dims(pizza_array, axis=0)\n",
    "not_pizza_image = np.expand_dims(not_pizza_array, axis=0)"
   ]
  },
  {
   "cell_type": "code",
   "execution_count": 21,
   "id": "5f4295a9-bd61-4eb1-be07-93a14ca0a749",
   "metadata": {},
   "outputs": [
    {
     "name": "stdout",
     "output_type": "stream",
     "text": [
      "1/1 [==============================] - 0s 87ms/step\n",
      "1/1 [==============================] - 0s 19ms/step\n"
     ]
    }
   ],
   "source": [
    "pizza_result = cnn_model.predict(pizza_image)\n",
    "not_pizza_result = cnn_model.predict(not_pizza_image)"
   ]
  },
  {
   "cell_type": "code",
   "execution_count": 22,
   "id": "c6b8fde4-9283-45df-9b0b-bdfdd0285bf8",
   "metadata": {},
   "outputs": [
    {
     "name": "stdout",
     "output_type": "stream",
     "text": [
      "{'not_pizza': 0, 'pizza': 1}\n"
     ]
    }
   ],
   "source": [
    "print(training_set.class_indices)"
   ]
  },
  {
   "cell_type": "markdown",
   "id": "dda18eca-34f8-46f6-8f81-85b016656bef",
   "metadata": {},
   "source": [
    "<p> Resultat </p>"
   ]
  },
  {
   "cell_type": "code",
   "execution_count": 23,
   "id": "ee8ac5eb-5636-48b2-b06d-cd1154224945",
   "metadata": {},
   "outputs": [
    {
     "data": {
      "image/png": "[encoded data removed]",
      "text/plain": [
       "<PIL.Image.Image image mode=RGB size=64x64>"
      ]
     },
     "execution_count": 23,
     "metadata": {},
     "output_type": "execute_result"
    }
   ],
   "source": [
    "pizza"
   ]
  },
  {
   "cell_type": "code",
   "execution_count": 24,
   "id": "672bcfb4-6c0f-493f-8ab7-cdbf8daefa69",
   "metadata": {},
   "outputs": [
    {
     "data": {
      "text/plain": [
       "1.0"
      ]
     },
     "execution_count": 24,
     "metadata": {},
     "output_type": "execute_result"
    }
   ],
   "source": [
    "pizza_result[0,0]"
   ]
  },
  {
   "cell_type": "code",
   "execution_count": 25,
   "id": "7cd62248-86c3-4248-82cf-a24f0bf9a910",
   "metadata": {},
   "outputs": [
    {
     "data": {
      "image/png": "[encoded data removed]",
      "text/plain": [
       "<PIL.Image.Image image mode=RGB size=64x64>"
      ]
     },
     "execution_count": 25,
     "metadata": {},
     "output_type": "execute_result"
    }
   ],
   "source": [
    "not_pizza"
   ]
  },
  {
   "cell_type": "code",
   "execution_count": 26,
   "id": "ea8561d7-6a86-47fe-8949-5a7a038fec98",
   "metadata": {},
   "outputs": [
    {
     "data": {
      "text/plain": [
       "0.0"
      ]
     },
     "execution_count": 26,
     "metadata": {},
     "output_type": "execute_result"
    }
   ],
   "source": [
    "not_pizza_result[0,0]"
   ]
  },
  {
   "cell_type": "markdown",
   "id": "7124ad65-3a3b-4ab0-9f20-689c5a91c9d2",
   "metadata": {},
   "source": [
    "Träffsäkerheten skiftar kring 70 till 80 procent men modellen gissar rätt var gång på föregående bilder i alla test."
   ]
  }
 ],
 "metadata": {
  "kernelspec": {
   "display_name": "Python 3 (ipykernel)",
   "language": "python",
   "name": "python3"
  },
  "language_info": {
   "codemirror_mode": {
    "name": "ipython",
    "version": 3
   },
   "file_extension": ".py",
   "mimetype": "text/x-python",
   "name": "python",
   "nbconvert_exporter": "python",
   "pygments_lexer": "ipython3",
   "version": "3.9.15"
  }
 },
 "nbformat": 4,
 "nbformat_minor": 5
}
